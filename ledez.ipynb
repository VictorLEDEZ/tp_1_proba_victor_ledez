{
 "cells": [
  {
   "cell_type": "markdown",
   "metadata": {},
   "source": [
    "# MDI720 - TP : Régression linéaire\n"
   ]
  },
  {
   "cell_type": "markdown",
   "metadata": {},
   "source": [
    "## <ins>Exercice 1 :</ins> Analyse de la base de données “investment data”\n"
   ]
  },
  {
   "cell_type": "code",
   "execution_count": 139,
   "metadata": {},
   "outputs": [],
   "source": [
    "from sklearn.linear_model import LinearRegression\n",
    "from sklearn.metrics import r2_score\n",
    "from matplotlib import pyplot as plt\n",
    "from numpy.linalg import inv\n",
    "import scipy.stats as stats\n",
    "import pandas as pd\n",
    "import numpy as np\n"
   ]
  },
  {
   "cell_type": "markdown",
   "metadata": {},
   "source": [
    "### <ins>Question 1 :</ins>\n",
    "\n",
    "> Importer la base de données “invest.txt” et l’afficher dans une forme lisible, e.g. une table contenant les 5 premières observations.\n"
   ]
  },
  {
   "cell_type": "code",
   "execution_count": 140,
   "metadata": {},
   "outputs": [
    {
     "data": {
      "text/html": [
       "<div>\n",
       "<style scoped>\n",
       "    .dataframe tbody tr th:only-of-type {\n",
       "        vertical-align: middle;\n",
       "    }\n",
       "\n",
       "    .dataframe tbody tr th {\n",
       "        vertical-align: top;\n",
       "    }\n",
       "\n",
       "    .dataframe thead th {\n",
       "        text-align: right;\n",
       "    }\n",
       "</style>\n",
       "<table border=\"1\" class=\"dataframe\">\n",
       "  <thead>\n",
       "    <tr style=\"text-align: right;\">\n",
       "      <th></th>\n",
       "      <th>year</th>\n",
       "      <th>gnp</th>\n",
       "      <th>invest</th>\n",
       "      <th>cpi</th>\n",
       "      <th>interest</th>\n",
       "    </tr>\n",
       "  </thead>\n",
       "  <tbody>\n",
       "    <tr>\n",
       "      <th>0</th>\n",
       "      <td>1968</td>\n",
       "      <td>873.4</td>\n",
       "      <td>133.3</td>\n",
       "      <td>82.54</td>\n",
       "      <td>5.16</td>\n",
       "    </tr>\n",
       "    <tr>\n",
       "      <th>1</th>\n",
       "      <td>1969</td>\n",
       "      <td>944.0</td>\n",
       "      <td>149.3</td>\n",
       "      <td>86.79</td>\n",
       "      <td>5.87</td>\n",
       "    </tr>\n",
       "    <tr>\n",
       "      <th>2</th>\n",
       "      <td>1970</td>\n",
       "      <td>992.7</td>\n",
       "      <td>144.2</td>\n",
       "      <td>91.45</td>\n",
       "      <td>5.95</td>\n",
       "    </tr>\n",
       "    <tr>\n",
       "      <th>3</th>\n",
       "      <td>1971</td>\n",
       "      <td>1077.6</td>\n",
       "      <td>166.4</td>\n",
       "      <td>96.01</td>\n",
       "      <td>4.88</td>\n",
       "    </tr>\n",
       "    <tr>\n",
       "      <th>4</th>\n",
       "      <td>1972</td>\n",
       "      <td>1185.9</td>\n",
       "      <td>195.0</td>\n",
       "      <td>100.00</td>\n",
       "      <td>4.50</td>\n",
       "    </tr>\n",
       "  </tbody>\n",
       "</table>\n",
       "</div>"
      ],
      "text/plain": [
       "   year     gnp  invest     cpi  interest\n",
       "0  1968   873.4   133.3   82.54      5.16\n",
       "1  1969   944.0   149.3   86.79      5.87\n",
       "2  1970   992.7   144.2   91.45      5.95\n",
       "3  1971  1077.6   166.4   96.01      4.88\n",
       "4  1972  1185.9   195.0  100.00      4.50"
      ]
     },
     "execution_count": 140,
     "metadata": {},
     "output_type": "execute_result"
    }
   ],
   "source": [
    "data = pd.read_csv('invest.txt', sep = \" \", header = 0)\n",
    "data.head()\n"
   ]
  },
  {
   "cell_type": "markdown",
   "metadata": {},
   "source": [
    "### <ins>Question 2 :</ins>\n",
    "\n",
    "> Réaliser le graphe suivant : la variable “Gross National Product” (GNP, column “gnp”) est en abscisse et la variable “Investment” (column “invest”) est en ordonnée. Transformer les 2 variables précédentes en échelle logarithmique. Nous travaillerons désormais avec les 2 nouvelles variables.\n"
   ]
  },
  {
   "cell_type": "code",
   "execution_count": 141,
   "metadata": {},
   "outputs": [
    {
     "data": {
      "image/png": "[encoded data removed]",
      "text/plain": [
       "<Figure size 432x288 with 1 Axes>"
      ]
     },
     "metadata": {
      "needs_background": "light"
     },
     "output_type": "display_data"
    }
   ],
   "source": [
    "data['gnp_log'] = np.log(data['gnp'])\n",
    "data['invest_log'] = np.log(data['invest'])\n",
    "\n",
    "plt.plot(data['gnp_log'], data['invest_log'], 'bo', label='Données')\n",
    "plt.title(\"Raw log(data)\")\n",
    "plt.xlabel(\"Gross National Product\")\n",
    "plt.ylabel(\"Investment\")\n",
    "plt.legend()\n",
    "plt.show()\n"
   ]
  },
  {
   "cell_type": "code",
   "execution_count": 142,
   "metadata": {},
   "outputs": [
    {
     "data": {
      "text/html": [
       "<div>\n",
       "<style scoped>\n",
       "    .dataframe tbody tr th:only-of-type {\n",
       "        vertical-align: middle;\n",
       "    }\n",
       "\n",
       "    .dataframe tbody tr th {\n",
       "        vertical-align: top;\n",
       "    }\n",
       "\n",
       "    .dataframe thead th {\n",
       "        text-align: right;\n",
       "    }\n",
       "</style>\n",
       "<table border=\"1\" class=\"dataframe\">\n",
       "  <thead>\n",
       "    <tr style=\"text-align: right;\">\n",
       "      <th></th>\n",
       "      <th>year</th>\n",
       "      <th>gnp</th>\n",
       "      <th>invest</th>\n",
       "      <th>cpi</th>\n",
       "      <th>interest</th>\n",
       "      <th>gnp_log</th>\n",
       "      <th>invest_log</th>\n",
       "    </tr>\n",
       "  </thead>\n",
       "  <tbody>\n",
       "    <tr>\n",
       "      <th>0</th>\n",
       "      <td>1968</td>\n",
       "      <td>873.4</td>\n",
       "      <td>133.3</td>\n",
       "      <td>82.54</td>\n",
       "      <td>5.16</td>\n",
       "      <td>6.772394</td>\n",
       "      <td>4.892602</td>\n",
       "    </tr>\n",
       "    <tr>\n",
       "      <th>1</th>\n",
       "      <td>1969</td>\n",
       "      <td>944.0</td>\n",
       "      <td>149.3</td>\n",
       "      <td>86.79</td>\n",
       "      <td>5.87</td>\n",
       "      <td>6.850126</td>\n",
       "      <td>5.005958</td>\n",
       "    </tr>\n",
       "    <tr>\n",
       "      <th>2</th>\n",
       "      <td>1970</td>\n",
       "      <td>992.7</td>\n",
       "      <td>144.2</td>\n",
       "      <td>91.45</td>\n",
       "      <td>5.95</td>\n",
       "      <td>6.900429</td>\n",
       "      <td>4.971201</td>\n",
       "    </tr>\n",
       "    <tr>\n",
       "      <th>3</th>\n",
       "      <td>1971</td>\n",
       "      <td>1077.6</td>\n",
       "      <td>166.4</td>\n",
       "      <td>96.01</td>\n",
       "      <td>4.88</td>\n",
       "      <td>6.982492</td>\n",
       "      <td>5.114395</td>\n",
       "    </tr>\n",
       "    <tr>\n",
       "      <th>4</th>\n",
       "      <td>1972</td>\n",
       "      <td>1185.9</td>\n",
       "      <td>195.0</td>\n",
       "      <td>100.00</td>\n",
       "      <td>4.50</td>\n",
       "      <td>7.078257</td>\n",
       "      <td>5.273000</td>\n",
       "    </tr>\n",
       "  </tbody>\n",
       "</table>\n",
       "</div>"
      ],
      "text/plain": [
       "   year     gnp  invest     cpi  interest   gnp_log  invest_log\n",
       "0  1968   873.4   133.3   82.54      5.16  6.772394    4.892602\n",
       "1  1969   944.0   149.3   86.79      5.87  6.850126    5.005958\n",
       "2  1970   992.7   144.2   91.45      5.95  6.900429    4.971201\n",
       "3  1971  1077.6   166.4   96.01      4.88  6.982492    5.114395\n",
       "4  1972  1185.9   195.0  100.00      4.50  7.078257    5.273000"
      ]
     },
     "execution_count": 142,
     "metadata": {},
     "output_type": "execute_result"
    }
   ],
   "source": [
    "data.head()\n"
   ]
  },
  {
   "cell_type": "markdown",
   "metadata": {},
   "source": [
    "_NOTE : Lorsque l’on traite des données monétaires, on travaille souvent en échelle logarithmique (pour prendre en compte les différences d’échelle)._\n"
   ]
  },
  {
   "cell_type": "markdown",
   "metadata": {},
   "source": [
    "_Les questions suivantes (3 à 6) doivent être réalisées par l’intermédiaire d’opérations élémentaires, sans utiliser de librairies existantes._\n"
   ]
  },
  {
   "cell_type": "markdown",
   "metadata": {},
   "source": [
    "### <ins>Question 3 :</ins>\n",
    "\n",
    "> Pour la régression de ”Investment” (variable à expliquer, output) sur ”GNP” (variable explicative, covariable), estimer l’intercept et la pente, leurs écart-types, ainsi que le coefficient de détermination. Les afficher dans une forme lisible.\n"
   ]
  },
  {
   "cell_type": "markdown",
   "metadata": {},
   "source": [
    "On part de la formule : $Z^TZ\\hat{\\theta}=Z^TY$ avec $\\hat{\\theta}$ une solution.\n",
    "\n",
    "On a donc $\\hat{\\theta} = (Z^TZ)^{-1}Z^TY$\n"
   ]
  },
  {
   "cell_type": "markdown",
   "metadata": {},
   "source": [
    "- Intercept et Pente\n"
   ]
  },
  {
   "cell_type": "code",
   "execution_count": 143,
   "metadata": {},
   "outputs": [],
   "source": [
    "def get_X(abscissa):\n",
    "    return np.array(data[abscissa]).reshape(-1, 1)\n",
    "\n",
    "def get_Z(X):\n",
    "    if np.ndim(X) == 1:\n",
    "        X = X.reshape(-1, 1)\n",
    "    return np.array([[1, x[0]] for x in X])\n",
    "\n",
    "def get_Y(ordinate):\n",
    "    return np.array(data[ordinate]).reshape(-1, 1)\n",
    "\n",
    "def get_thetas(Y, Z):\n",
    "    return inv(Z.T@Z)@Z.T@Y\n"
   ]
  },
  {
   "cell_type": "code",
   "execution_count": 144,
   "metadata": {},
   "outputs": [],
   "source": [
    "X = get_X('gnp_log')\n",
    "Y = get_Y('invest_log')\n",
    "Z = get_Z(X)"
   ]
  },
  {
   "cell_type": "code",
   "execution_count": 145,
   "metadata": {},
   "outputs": [],
   "source": [
    "thetas = get_thetas(Y, Z)\n",
    "theta_0 = thetas[0][0]\n",
    "theta_1 = thetas[1][0]"
   ]
  },
  {
   "cell_type": "code",
   "execution_count": 146,
   "metadata": {},
   "outputs": [
    {
     "name": "stdout",
     "output_type": "stream",
     "text": [
      "Intercept de la régression (theta_0): -1.9636\n",
      "Pente de la régression (theta_1): 1.0153\n"
     ]
    }
   ],
   "source": [
    "print(f'Intercept de la régression (theta_0): {theta_0:.4f}')\n",
    "print(f'Pente de la régression (theta_1): {theta_1:.4f}')\n"
   ]
  },
  {
   "cell_type": "code",
   "execution_count": 147,
   "metadata": {},
   "outputs": [
    {
     "data": {
      "image/png": "[encoded data removed]",
      "text/plain": [
       "<Figure size 960x640 with 1 Axes>"
      ]
     },
     "metadata": {
      "needs_background": "light"
     },
     "output_type": "display_data"
    }
   ],
   "source": [
    "# Equation de la droite de régression\n",
    "Y_hat = theta_1 * data['gnp_log'] + theta_0\n",
    "\n",
    "# Mise à l'échelle logarithmique\n",
    "plt.figure(figsize=(12, 8), dpi=80)\n",
    "plt.grid()\n",
    "\n",
    "# Tracé de la droite de régression et des données\n",
    "plt.plot(data['gnp_log'], data['invest_log'], 'bo', label='Données')\n",
    "plt.plot(data['gnp_log'], Y_hat, 'r', label='Droite de régression')\n",
    "\n",
    "# Titre, légende et nom des axes\n",
    "plt.title(\"Regréssion linéaire de GNP sur INVEST\")\n",
    "plt.xlabel(\"Gross National Product (log)\")\n",
    "plt.ylabel(\"Investment (log)\")\n",
    "\n",
    "plt.legend()\n",
    "plt.show()\n"
   ]
  },
  {
   "cell_type": "markdown",
   "metadata": {},
   "source": [
    "- Ecart-types : $$\\sqrt{\\frac{1}{n} \\sum_{i=1}^n (x_{i} - \\bar{x}_{n})^2}$$\n"
   ]
  },
  {
   "cell_type": "code",
   "execution_count": 148,
   "metadata": {},
   "outputs": [],
   "source": [
    "def get_standard_residuals(Z, Y, thetas):\n",
    "    return np.sqrt(((Z@thetas - Y) ** 2).sum() / (X.shape[0] - X.shape[1] - 1))\n",
    "\n",
    "\n",
    "def get_standard_deviations(Z, Y, thetas):\n",
    "    return get_standard_residuals(Z, Y, thetas) * np.sqrt(np.diag(inv(Z.T@Z)))"
   ]
  },
  {
   "cell_type": "code",
   "execution_count": 149,
   "metadata": {},
   "outputs": [
    {
     "name": "stdout",
     "output_type": "stream",
     "text": [
      "Ecart-type de l'intercept: 0.4095\n",
      "Ecart-type de la pente: 0.0554\n"
     ]
    }
   ],
   "source": [
    "theta_0_standard, theta_1_standard = get_standard_deviations(Z, Y, thetas)\n",
    "\n",
    "print(f'Ecart-type de l\\'intercept: {theta_0_standard:.4f}')\n",
    "print(f'Ecart-type de la pente: {theta_1_standard:.4f}')\n"
   ]
  },
  {
   "cell_type": "markdown",
   "metadata": {},
   "source": [
    "- coefficient de détermination : $$R^2 = \\frac{\\sum_{i=1}^n{(\\hat{Y}_i - \\bar{Y})^2}}{\\sum_{i=1}^n{(Y_i - \\bar{Y})^2}}$$"
   ]
  },
  {
   "cell_type": "code",
   "execution_count": 150,
   "metadata": {},
   "outputs": [],
   "source": [
    "def get_r2(Z, Y, thetas):\n",
    "    return ((Z@thetas - Y.mean()) ** 2).sum() / ((Y - Y.mean()) ** 2).sum()"
   ]
  },
  {
   "cell_type": "code",
   "execution_count": 151,
   "metadata": {},
   "outputs": [
    {
     "name": "stdout",
     "output_type": "stream",
     "text": [
      "Coefficient de détermination R² : 0.9628\n"
     ]
    }
   ],
   "source": [
    "r2 = get_r2(Z, Y, thetas)\n",
    "\n",
    "print(f'Coefficient de détermination R² : {r2:.4f}')\n"
   ]
  },
  {
   "cell_type": "markdown",
   "metadata": {},
   "source": [
    "Nous constatons que le coefficient de détermination est proche de 1, ce qui tend à montrer que les points observés sont rassemblés autour de la droite de régression (un coefficient de 0 montrerait que le nuage de point est dispersé autour de cette droite) : l'estimation est donc plutôt bonne au regard de ce score."
   ]
  },
  {
   "cell_type": "markdown",
   "metadata": {},
   "source": [
    "### <ins>Question 4 :</ins>\n",
    "\n",
    "> La pente estimée précédemment est-elle statistiquement significative ? On fera un test de student (t-test). Donner la valeur de la statistique de test ainsi que la p-valeur.\n"
   ]
  },
  {
   "cell_type": "code",
   "execution_count": 152,
   "metadata": {},
   "outputs": [],
   "source": [
    "def get_gramian_matrix(Z):\n",
    "    return Z.T @ Z / np.shape(Z)[0]\n",
    "\n",
    "\n",
    "def get_diagonal_inverse(matrix):\n",
    "    return np.diag(np.linalg.inv(matrix))\n",
    "\n",
    "\n",
    "def get_degree(Z):\n",
    "    return Z.shape[0] - Z.shape[1]\n",
    "\n",
    "\n",
    "def student_test(Z, Y, thetas):\n",
    "    inversed_gramian_matrix_Z = get_diagonal_inverse(get_gramian_matrix(Z))\n",
    "    return np.squeeze(np.sqrt(Z.shape[0]) * thetas) / np.sqrt((get_standard_residuals(Z, Y, thetas) ** 2) * inversed_gramian_matrix_Z)\n",
    "\n",
    "\n",
    "def get_p_value(Z, Y, thetas):\n",
    "    return 2 * stats.t.sf(student_test(Z, Y, thetas), get_degree(Z))\n"
   ]
  },
  {
   "cell_type": "code",
   "execution_count": 153,
   "metadata": {},
   "outputs": [
    {
     "name": "stdout",
     "output_type": "stream",
     "text": [
      "La valeur de student_value pour theta1 est : 18.3320\n",
      "La valeur de p_value pour theta1 est : 0.0000\n"
     ]
    }
   ],
   "source": [
    "student_value = student_test(Z, Y, thetas)\n",
    "p_value = get_p_value(Z, Y, thetas)\n",
    "\n",
    "print(f'La valeur de student_value pour theta1 est : {student_value[1]:.4f}')\n",
    "print(f'La valeur de p_value pour theta1 est : {p_value[1]:.4f}')\n"
   ]
  },
  {
   "cell_type": "markdown",
   "metadata": {},
   "source": [
    "### <ins>Question 5 :</ins>\n",
    "\n",
    "> Pour GNP égal à 1000, estimer l’investissement prédit par le modèle. Pour GNP égal à 1000, donner l’intervalle de confiance pour la valeur prédite et l’intervalle de confiance pour la variable à expliquer “Investment”, au niveau 90%. On pourra se référer à la section 3.1.3 “Confidence intervals for the predicted values” du polycopié dans laquelle chaque intervalle est défini, $CI(z)$ et $PI(z)$, respectivement (avec les notations du polycopié, $z = (1,1000)^T$ ).\n"
   ]
  },
  {
   "cell_type": "markdown",
   "metadata": {},
   "source": [
    "- Investissement prédit par le modèle :"
   ]
  },
  {
   "cell_type": "code",
   "execution_count": 154,
   "metadata": {},
   "outputs": [
    {
     "name": "stdout",
     "output_type": "stream",
     "text": [
      "Pour GNP = 1000, l'investissement prédit par le modèle est de : 155.9794 (en valeur log : 5.0497).\n"
     ]
    }
   ],
   "source": [
    "GNP = 1000\n",
    "\n",
    "prediction = theta_0 + np.log(GNP) * theta_1\n",
    "\n",
    "print(f\"Pour GNP = {GNP}, l'investissement prédit par le modèle est de : {np.exp(prediction):.4f} (en valeur log : {prediction:.4f}).\")"
   ]
  },
  {
   "cell_type": "markdown",
   "metadata": {},
   "source": [
    "- Intervale de confiance :"
   ]
  },
  {
   "cell_type": "code",
   "execution_count": 155,
   "metadata": {},
   "outputs": [],
   "source": [
    "def get_student_percentile(Z, alpha):\n",
    "    return stats.t.ppf(q = alpha, df = get_degree(Z))\n",
    "\n",
    "def get_CI_PI(Z, Y, thetas, alpha, z_predicted, interval):\n",
    "    center = np.squeeze(z_predicted @ thetas)\n",
    "    percentile = get_student_percentile(Z, (1 - alpha / 2))\n",
    "    residual_std = get_standard_residuals(Z, Y, thetas)\n",
    "\n",
    "    middle_length = percentile * residual_std * np.sqrt(np.diag(interval + z_predicted @ (np.linalg.inv(Z.T @ Z)) @ z_predicted.T))\n",
    "    \n",
    "    return center - middle_length, center + middle_length"
   ]
  },
  {
   "cell_type": "code",
   "execution_count": 156,
   "metadata": {},
   "outputs": [
    {
     "name": "stdout",
     "output_type": "stream",
     "text": [
      "Les valeurs des bornes de CI sont : 146.6755 (log : 4.9882) et 165.8735 (log : 5.1112)\n",
      "Les valeurs des bornes de PI sont : 132.0024 (log : 4.8828) et 184.3117 (log : 5.2166)\n"
     ]
    }
   ],
   "source": [
    "z_predicted = get_Z(np.log(np.array([1000])))\n",
    "\n",
    "CI_lower, CI_upper = get_CI_PI(Z, Y, thetas, 0.10, z_predicted, 0)\n",
    "PI_lower, PI_upper = get_CI_PI(Z, Y, thetas, 0.10, z_predicted, 1)\n",
    "\n",
    "print(f'Les valeurs des bornes de CI sont : {np.exp(CI_lower.squeeze()):.4f} (log : {CI_lower.squeeze():.4f}) et {np.exp(CI_upper.squeeze()):.4f} (log : {CI_upper.squeeze():.4f})')\n",
    "print(f'Les valeurs des bornes de PI sont : {np.exp(PI_lower.squeeze()):.4f} (log : {PI_lower.squeeze():.4f}) et {np.exp(PI_upper.squeeze()):.4f} (log : {PI_upper.squeeze():.4f})')\n"
   ]
  },
  {
   "cell_type": "markdown",
   "metadata": {},
   "source": [
    "### <ins>Question 6 :</ins>\n",
    "\n",
    "> Sur un graphe avec échelle logarithmique, avec GNP en abscisse et investment en ordonnée, tracer les données, la droite de régression, ainsi que les intervalle CI et PI (pour toutes les valeurs de log(GNP) comprises entre le maximum et le minimum observé sur les données)\n"
   ]
  },
  {
   "cell_type": "code",
   "execution_count": 157,
   "metadata": {},
   "outputs": [],
   "source": [
    "def predict_values(Z, theta):\n",
    "    return Z @ theta\n",
    "\n",
    "def plot_intervals(Z, Y, thetas):\n",
    "    # Mise à l'échelle logarithmique\n",
    "    plt.figure(figsize=(12, 8), dpi=80)\n",
    "    plt.grid()\n",
    "\n",
    "    all_CI_lower, all_CI_upper = get_CI_PI(Z, Y, thetas, 0.10, Z, 0)\n",
    "    all_PI_lower, all_PI_upper = get_CI_PI(Z, Y, thetas, 0.10, Z, 1)\n",
    "\n",
    "    # Tracé de la droite de régression et des données\n",
    "    plt.plot(data['gnp_log'], data['invest_log'], 'bo', label='Données')\n",
    "    plt.plot(data['gnp_log'], Y_hat, 'r', label='Droite de régression')\n",
    "\n",
    "    plt.plot(Z[:, 1], all_CI_lower, color='orange', label='intervalles CI')\n",
    "    plt.plot(Z[:, 1], all_CI_upper, color='orange')\n",
    "    plt.plot(Z[:, 1], all_PI_lower, color='green', label='intervalles PI')\n",
    "    plt.plot(Z[:, 1], all_PI_upper, color='green')\n",
    "\n",
    "    # Titre, légende et nom des axes\n",
    "    plt.title(\"Regréssion linéaire de GNP sur INVEST - Intervalles au niveau 90%\")\n",
    "    plt.xlabel(\"Gross National Product (log)\")\n",
    "    plt.ylabel(\"Investment (log)\")\n",
    "\n",
    "    plt.legend()\n",
    "    plt.plot()\n"
   ]
  },
  {
   "cell_type": "code",
   "execution_count": 158,
   "metadata": {},
   "outputs": [
    {
     "data": {
      "image/png": "[encoded data removed]",
      "text/plain": [
       "<Figure size 960x640 with 1 Axes>"
      ]
     },
     "metadata": {
      "needs_background": "light"
     },
     "output_type": "display_data"
    }
   ],
   "source": [
    "plot_intervals(Z, Y, thetas)"
   ]
  },
  {
   "cell_type": "markdown",
   "metadata": {},
   "source": [
    "### <ins>Question 7 :</ins>\n",
    "\n",
    "> En utilisant des classes/librairies existantes, donner l’intercept, la pente, le coefficient de détermination ainsi que l’investissement prédit par le modèle quand GNP vaut 1000. La classe LinearRegression() de sklearn.linear_model est suggérée mais pas obligatoire. Vérifier que les valeurs calculées ici coïncident avec celles des questions précédentes.\n"
   ]
  },
  {
   "cell_type": "code",
   "execution_count": 159,
   "metadata": {},
   "outputs": [
    {
     "name": "stdout",
     "output_type": "stream",
     "text": [
      "Selon Scikit-Learn :\n",
      " - Intercept de la régression : -1.9636\n",
      " - Pente de la régression : 1.0153\n",
      " - Coefficient de détermination : 0.9628\n",
      " - Pour GNP = 1000, l'investissement prédit par le modèle est de : 155.9794\n"
     ]
    },
    {
     "name": "stderr",
     "output_type": "stream",
     "text": [
      "C:\\Users\\ledez\\AppData\\Local\\Programs\\Python\\Python39\\lib\\site-packages\\sklearn\\base.py:441: UserWarning: X does not have valid feature names, but LinearRegression was fitted with feature names\n",
      "  warnings.warn(\n"
     ]
    }
   ],
   "source": [
    "# Redefining the variabes\n",
    "X = data[['gnp_log']]\n",
    "Y = data['invest_log']\n",
    "\n",
    "linear_regression = LinearRegression()\n",
    "linear_regression.fit(X, Y)\n",
    "\n",
    "theta_0_linear = linear_regression.intercept_\n",
    "theta_1_linear = linear_regression.coef_[0]\n",
    "\n",
    "Y_hat_linear = theta_0_linear + theta_1_linear * X\n",
    "\n",
    "Y_hat_ref = linear_regression.predict(np.log(GNP).reshape(-1, 1))\n",
    "Y_hat_ref = np.exp(Y_hat_ref[0])\n",
    "\n",
    "print('Selon Scikit-Learn :')\n",
    "print(f\" - Intercept de la régression : {theta_0_linear:.4f}\")\n",
    "print(f\" - Pente de la régression : {theta_1_linear:.4f}\")\n",
    "print(f\" - Coefficient de détermination : {r2_score(Y, Y_hat_linear):.4f}\")\n",
    "print(f\" - Pour GNP = {GNP}, l'investissement prédit par le modèle est de : {Y_hat_ref:.4f}\")\n"
   ]
  },
  {
   "cell_type": "markdown",
   "metadata": {},
   "source": [
    "### <ins>Question 8 :</ins>\n",
    "\n",
    "> Sur un graphe avec échelle logarithmique, avec GNP en abscisse et investment en ordonnée, tracer les données, la droite de régression, ainsi que l’investissement prédit par le modèle quand GNP vaut 1000 (on donnera à ce point une couleur différente).\n"
   ]
  },
  {
   "cell_type": "code",
   "execution_count": 160,
   "metadata": {},
   "outputs": [
    {
     "data": {
      "image/png": "[encoded data removed]",
      "text/plain": [
       "<Figure size 960x640 with 1 Axes>"
      ]
     },
     "metadata": {
      "needs_background": "light"
     },
     "output_type": "display_data"
    }
   ],
   "source": [
    "# Génération de l'axe des abscisses\n",
    "X_min = data.gnp_log.min()\n",
    "X_max = data.gnp_log.max()\n",
    "X_abscissa = np.linspace(X_min, X_max, num = 100)\n",
    "\n",
    "# Equation de la droite de régression\n",
    "Y_hat = theta_1_linear * X_abscissa + theta_0_linear\n",
    "\n",
    "# Mise à l'échelle logarithmique\n",
    "plt.figure(figsize=(12, 8), dpi=80)\n",
    "plt.grid()\n",
    "\n",
    "# Tracé de la droite de régression et des données\n",
    "plt.plot(X, Y, 'bo', label='Données')\n",
    "plt.plot(X_abscissa, Y_hat, 'r', label='Régression Scikit-Learn')\n",
    "plt.scatter([np.log(GNP)], [np.log(Y_hat_ref)], color='g',\n",
    "            label=f'Prédiction pour GNP={GNP}', s=100)\n",
    "\n",
    "# Titre, légende et nom des axes\n",
    "plt.title(\"Regréssion linéaire de GNP sur INVEST\")\n",
    "plt.xlabel(\"Gross National Product (log)\")\n",
    "plt.ylabel(\"Investment (log)\")\n",
    "\n",
    "plt.legend()\n",
    "plt.show()\n"
   ]
  },
  {
   "cell_type": "markdown",
   "metadata": {},
   "source": [
    "_NOTE : On introduit une nouvelle variable explicative, la variable interest (sans transformation logarithmique). Les questions suivantes (9 à 12) doivent être réalisées par l’intermédiaire d’opéra- tions élémentaires, sans utiliser de librairies existantes (on utilisera par exemple inv et eig de numpy.linalg)._\n"
   ]
  },
  {
   "cell_type": "markdown",
   "metadata": {},
   "source": [
    "### <ins>Question 9 :</ins>\n",
    "\n",
    "> Pour la régression de Investment sur GNP et Interest, calculer la matrice de Gram non standardisée $Z^TZ$. Est-elle de rang plein ?\n"
   ]
  },
  {
   "cell_type": "code",
   "execution_count": 161,
   "metadata": {},
   "outputs": [
    {
     "name": "stdout",
     "output_type": "stream",
     "text": [
      "Ci-dessous la matrice de Gram :\n",
      "                   0     gnp_log    interest\n",
      "0          15.000000  110.752821  111.790000\n",
      "gnp_log   110.752821  820.248477  839.188543\n",
      "interest  111.790000  839.188543  943.855700\n"
     ]
    }
   ],
   "source": [
    "# Redefining the variables\n",
    "X = data[['gnp_log', 'interest']]\n",
    "Y = data['invest_log']\n",
    "Z = pd.concat([pd.DataFrame(np.ones(X.shape[0])), X], axis = 1)\n",
    "\n",
    "Z_gramian = Z.T @ Z\n",
    "\n",
    "print('Ci-dessous la matrice de Gram :')\n",
    "print(Z_gramian)\n"
   ]
  },
  {
   "cell_type": "code",
   "execution_count": 162,
   "metadata": {},
   "outputs": [
    {
     "name": "stdout",
     "output_type": "stream",
     "text": [
      "Les dimensions de la matrice de Gram :  (3, 3)\n",
      "Le rang de la matrice de Gram :  3\n",
      "La matrice de Gram de Z est donc de rang plein\n"
     ]
    }
   ],
   "source": [
    "print('Les dimensions de la matrice de Gram : ', Z_gramian.shape)\n",
    "print('Le rang de la matrice de Gram : ', np.linalg.matrix_rank(Z_gramian))\n",
    "\n",
    "if Z_gramian.shape[1] == np.linalg.matrix_rank(Z_gramian):\n",
    "    print('La matrice de Gram de Z est donc de rang plein')\n"
   ]
  },
  {
   "cell_type": "markdown",
   "metadata": {},
   "source": [
    "### <ins>Question 10 :</ins>\n",
    "\n",
    "> Pour la régression de Investment sur GNP et interest, estimer les 3 coefficients et leurs écart-types ainsi que le coefficient de détermination. En plus, faire un test de Student de significativité de chaque coefficient (donner la statistique de test et la p-valeur). Afficher les résultats dans une forme convenable. Discuter de la significativité des coefficients.\n"
   ]
  },
  {
   "cell_type": "markdown",
   "metadata": {},
   "source": [
    "- Pour estimer les trois coefficients et leurs écarts-types nous partons de la formule suivante :\n",
    "$$(Z^TZ)\\hat{\\theta} = Z^TY$$\n",
    "donc,\n",
    "$$\\hat{\\theta} = (Z^T Z)^{-1} Z^T Y$$"
   ]
  },
  {
   "cell_type": "code",
   "execution_count": 168,
   "metadata": {},
   "outputs": [
    {
     "name": "stdout",
     "output_type": "stream",
     "text": [
      " - Intercept : -2.1805\n",
      " - Coefficient de régression pour GNP : 1.0512\n",
      " - Coefficient de régression pour Interest : -0.0065\n"
     ]
    }
   ],
   "source": [
    "inverse_gram = np.linalg.inv(Z_gramian)\n",
    "thetas = np.dot(np.dot(inverse_gram, Z.transpose()), Y)\n",
    "\n",
    "print(f' - Intercept : {thetas[0]:.4f}')\n",
    "print(f' - Coefficient de régression pour GNP : {thetas[1]:.4f}')\n",
    "print(f' - Coefficient de régression pour Interest : {thetas[2]:.4f}')\n"
   ]
  },
  {
   "cell_type": "markdown",
   "metadata": {},
   "source": [
    "- Pour les calculs des variances nous partons de la formule suivante :\n",
    "$$\n",
    "\\mathbb{V}(\\hat{\\beta}_i) = \\hat{\\sigma}^2 (Z^T Z)^{-1}_{ii} = \\frac {\\hat{\\sigma}^2}{n} (G)^{-1}_{ii}\n",
    "$$\n",
    "avec $\\hat{\\sigma}^2 = \\frac{1}{n-3} \\|Y - \\hat{Y}\\|^2$, pour une matrice de Gram de rang 3."
   ]
  },
  {
   "cell_type": "code",
   "execution_count": 164,
   "metadata": {},
   "outputs": [
    {
     "name": "stdout",
     "output_type": "stream",
     "text": [
      "Variance :\n",
      " - Intercept : 0.6624\n",
      " - Coefficient de régression pour GNP : 0.1021\n",
      " - Coefficient de régression pour Interest : 0.0153\n"
     ]
    }
   ],
   "source": [
    "Y_hat_3 = np.dot(Z, thetas)\n",
    "noise_hat_3 = (1 / (len(X) - 3)) * (np.linalg.norm(Y - Y_hat_3) ** 2)\n",
    "covariance_thetas = noise_hat_3 * inverse_gram\n",
    "standard_thetas = np.array([np.sqrt(covariance_thetas[i, i]) for i in range(3)])\n",
    "\n",
    "print('Variance :')\n",
    "print(f' - Intercept : {standard_thetas[0]:.4f}')\n",
    "print(f' - Coefficient de régression pour GNP : {standard_thetas[1]:.4f}')\n",
    "print(f' - Coefficient de régression pour Interest : {standard_thetas[2]:.4f}')\n"
   ]
  },
  {
   "cell_type": "markdown",
   "metadata": {},
   "source": [
    "- Calcul du coefficient de détermination :"
   ]
  },
  {
   "cell_type": "code",
   "execution_count": 165,
   "metadata": {},
   "outputs": [
    {
     "name": "stdout",
     "output_type": "stream",
     "text": [
      "Coefficient de détermination : 0.9633\n"
     ]
    }
   ],
   "source": [
    "r2 = 1 - (np.linalg.norm(Y - Y_hat_3) / np.linalg.norm(Y - Y.mean())) ** 2\n",
    "\n",
    "print(f\"Coefficient de détermination : {r2:.4f}\")\n"
   ]
  },
  {
   "cell_type": "markdown",
   "metadata": {},
   "source": [
    "- Loi de Student :"
   ]
  },
  {
   "cell_type": "code",
   "execution_count": 166,
   "metadata": {},
   "outputs": [
    {
     "name": "stdout",
     "output_type": "stream",
     "text": [
      "Statistiques de test :\n",
      " - Intercept : -3.2918\n",
      " - Coefficient de régression pour GNP : 10.3001\n",
      " - Coefficient de régression pour Interest : -0.4255\n"
     ]
    }
   ],
   "source": [
    "statistic_thetas = thetas / standard_thetas\n",
    "\n",
    "print('Statistiques de test :')\n",
    "print(f' - Intercept : {statistic_thetas[0]:.4f}')\n",
    "print(f' - Coefficient de régression pour GNP : {statistic_thetas[1]:.4f}')\n",
    "print(f' - Coefficient de régression pour Interest : {statistic_thetas[2]:.4f}')\n"
   ]
  },
  {
   "cell_type": "markdown",
   "metadata": {},
   "source": [
    "- P-valeurs associées :"
   ]
  },
  {
   "cell_type": "code",
   "execution_count": 167,
   "metadata": {},
   "outputs": [
    {
     "name": "stdout",
     "output_type": "stream",
     "text": [
      "P-valeurs :\n",
      " - Intercept : 0.0049\n",
      " - Coefficient de régression pour GNP : 0.0000\n",
      " - Coefficient de régression pour Interest : 0.6765\n"
     ]
    }
   ],
   "source": [
    "p_value_thetas = 2 * (1 - stats.t.cdf(np.abs(statistic_thetas), df = len(X - 3)))\n",
    "\n",
    "print('P-valeurs :')\n",
    "print(f' - Intercept : {p_value_thetas[0]:.4f}')\n",
    "print(f' - Coefficient de régression pour GNP : {p_value_thetas[1]:.4f}')\n",
    "print(f' - Coefficient de régression pour Interest : {p_value_thetas[2]:.4f}')\n"
   ]
  },
  {
   "cell_type": "markdown",
   "metadata": {},
   "source": [
    "Grace aux derniers résultats obtenus ci-dessus, nous pouvons déduire les choses suivantes :\n",
    "\n",
    "- Pour theta_0 et theta_1, il est peu vraisemblalble que nos valeurs soient tombées hasard. Ces deux coefficients sont donc significatifs et à retenir.\n",
    "\n",
    "- Cependant, pour theta_2, nous avons 67% de chances de retomber sur cette valeur. Dans ce cas là l'hypothèse H0 est à retenir et, le coefficient theta_2 n'est pas significatif"
   ]
  },
  {
   "cell_type": "markdown",
   "metadata": {},
   "source": [
    "### <ins>Question 11 :</ins>\n",
    "\n",
    "> Pour les valeurs de GNP 1000 et interest 10, i.e., $z =(1, 1000, 10)^T$ , prédire log(investment) et donner les intervalles de confiance CI(z) et PI(z) au niveau 99.9%.\n"
   ]
  },
  {
   "cell_type": "code",
   "execution_count": null,
   "metadata": {},
   "outputs": [],
   "source": [
    "Z = (1, np.log(1000), 10)\n",
    "Y_predicted = np.dot(Z, θ2)\n",
    "np.exp(Y_predicted)\n",
    "\n",
    "t = stats.t.ppf([0.0005, 0.9995], len(X) - 3)\n",
    "\n",
    "z = pd.Series([1, np.log(1000), 10]).T\n",
    "\n",
    "Z = pd.concat([pd.DataFrame(np.ones(X.shape[0])), X], axis = 1)\n",
    "\n",
    "a = z.T @ np.linalg.inv(Z.T@Z) @ z\n",
    "\n",
    "\n",
    "CI_1 = Y_predicted + t[0] * theta_hat * np.sqrt(a)\n",
    "CI_2 = Y_predicted + t[1] * theta_hat * np.sqrt(a)\n",
    "\n",
    "PI_1 = Y_predicted + t[0] * theta_hat * np.sqrt(1 + a)\n",
    "PI_2 = Y_predicted + t[1] * theta_hat * np.sqrt(1 + a)\n"
   ]
  },
  {
   "cell_type": "code",
   "execution_count": null,
   "metadata": {},
   "outputs": [],
   "source": [
    "print(\"L'intervalle de confiance de la valeur prédite:\")\n",
    "print(\"CI = [ {} , {} ] \\n\".format(np.exp(CI_1), np.exp(CI_2)))\n",
    "print(\"L'intervalle de confiance de la variable à expliquer:\")\n",
    "print(\"PI = [ {} , {} ]\".format(np.exp(PI_1), np.exp(PI_2)))\n"
   ]
  },
  {
   "cell_type": "code",
   "execution_count": null,
   "metadata": {},
   "outputs": [],
   "source": [
    "print(\"En échelle logarithmique\\n\")\n",
    "print(\"L'intervalle de confiance de la valeur prédite:\")\n",
    "print(\"CI = [ {} , {} ] \\n\".format(CI_1, CI_2))\n",
    "print(\"L'intervalle de confiance de la variable à expliquer:\")\n",
    "print(\"PI = [ {} , {} ]\".format(PI_1, PI_2))\n"
   ]
  },
  {
   "cell_type": "markdown",
   "metadata": {},
   "source": [
    "### <ins>Question 12 :</ins>\n",
    "\n",
    "> Sur un même graphe à 3 dimensions avec les axes suivants : log(GNP), Interest, and log(Investment), tracer les données, le “plan” de régression et les surfaces correspondantes aux intervalles de confiance à 99.9% (ces surfaces seront tracées sur le domaine de définition des données). On pourra par exemple utiliser la librairie mplot3D\n"
   ]
  },
  {
   "cell_type": "code",
   "execution_count": null,
   "metadata": {},
   "outputs": [],
   "source": []
  },
  {
   "cell_type": "markdown",
   "metadata": {},
   "source": [
    "### <ins>Question 13 :</ins>\n",
    "\n",
    "> En utilisant des classes/librairies existantes, donner les coefficients de régression, le coefficient de détermination ainsi que l’investissement prédit par le modèle quand GNP vaut 1000 et interest 10. La classe LinearRegression() de sklearn.linear_model est suggérée mais pas obligatoire. Vérifier que les valeurs calculées ici coïncident avec celles des questions précédentes.\n"
   ]
  },
  {
   "cell_type": "code",
   "execution_count": null,
   "metadata": {},
   "outputs": [],
   "source": []
  }
 ],
 "metadata": {
  "interpreter": {
   "hash": "f489fa09b09661d741d1aee0482c3792118d516f8dffab1399d2c4234cb3cfaa"
  },
  "kernelspec": {
   "display_name": "Python 3.9.7 64-bit",
   "name": "python3"
  },
  "language_info": {
   "codemirror_mode": {
    "name": "ipython",
    "version": 3
   },
   "file_extension": ".py",
   "mimetype": "text/x-python",
   "name": "python",
   "nbconvert_exporter": "python",
   "pygments_lexer": "ipython3",
   "version": "3.9.7"
  },
  "orig_nbformat": 4
 },
 "nbformat": 4,
 "nbformat_minor": 2
}
